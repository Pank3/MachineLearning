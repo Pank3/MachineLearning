{
 "cells": [
  {
   "cell_type": "markdown",
   "id": "f3c8907b",
   "metadata": {},
   "source": [
    "## Regression Models"
   ]
  },
  {
   "cell_type": "markdown",
   "id": "fa257fd3",
   "metadata": {},
   "source": [
    "There are many types of regression analysis techniques, and teh use of each method depends upon the number of factors. These factors include the type of __target variable__, shape of the __regression line__, and the number of __independent variables__.\n"
   ]
  },
  {
   "cell_type": "markdown",
   "id": "ceeae4fa",
   "metadata": {},
   "source": [
    "## Linear Regression"
   ]
  },
  {
   "cell_type": "markdown",
   "id": "1c4d62f8",
   "metadata": {},
   "source": [
    "1. Residual Sum Square \n",
    "2. Gradient Decent\n",
    "\n",
    "\n",
    "Article : https://www.researchgate.net/publication/34068679"
   ]
  },
  {
   "cell_type": "code",
   "execution_count": 1,
   "id": "1f03f968",
   "metadata": {},
   "outputs": [],
   "source": [
    "import numpy as np\n",
    "import matplotlib.pyplot as plt\n",
    "import pandas as pd"
   ]
  },
  {
   "cell_type": "code",
   "execution_count": 2,
   "id": "aa43c3d6",
   "metadata": {},
   "outputs": [],
   "source": [
    "dataset = pd.read_csv('Salary_Data.csv')\n",
    "X=dataset.iloc[:,:-1].values\n",
    "Y=dataset.iloc[:,-1].values"
   ]
  },
  {
   "cell_type": "code",
   "execution_count": 3,
   "id": "7c7b6f79",
   "metadata": {},
   "outputs": [
    {
     "data": {
      "text/plain": [
       "<matplotlib.collections.PathCollection at 0x29108e22520>"
      ]
     },
     "execution_count": 3,
     "metadata": {},
     "output_type": "execute_result"
    },
    {
     "data": {
      "image/png": "[encoded data removed]",
      "text/plain": [
       "<Figure size 432x288 with 1 Axes>"
      ]
     },
     "metadata": {
      "needs_background": "light"
     },
     "output_type": "display_data"
    }
   ],
   "source": [
    "plt.scatter(X,Y)"
   ]
  },
  {
   "cell_type": "code",
   "execution_count": null,
   "id": "b3e41b33",
   "metadata": {},
   "outputs": [],
   "source": []
  },
  {
   "cell_type": "code",
   "execution_count": 4,
   "id": "f769f78f",
   "metadata": {},
   "outputs": [],
   "source": [
    "from sklearn.model_selection import train_test_split"
   ]
  },
  {
   "cell_type": "code",
   "execution_count": 5,
   "id": "5e27bd11",
   "metadata": {},
   "outputs": [],
   "source": [
    "x,x_test,y,y_test=train_test_split(X,Y,test_size=1/3)"
   ]
  },
  {
   "cell_type": "code",
   "execution_count": 6,
   "id": "8d6202de",
   "metadata": {},
   "outputs": [
    {
     "data": {
      "text/plain": [
       "LinearRegression()"
      ]
     },
     "execution_count": 6,
     "metadata": {},
     "output_type": "execute_result"
    }
   ],
   "source": [
    "from sklearn.linear_model import LinearRegression\n",
    "regressor = LinearRegression()\n",
    "regressor.fit(x,y)"
   ]
  },
  {
   "cell_type": "code",
   "execution_count": 7,
   "id": "670da0bd",
   "metadata": {},
   "outputs": [
    {
     "data": {
      "text/plain": [
       "(21767.630397347617, array([10050.55142901]))"
      ]
     },
     "execution_count": 7,
     "metadata": {},
     "output_type": "execute_result"
    }
   ],
   "source": [
    "regressor.intercept_, regressor.coef_"
   ]
  },
  {
   "cell_type": "code",
   "execution_count": 8,
   "id": "b991ca3f",
   "metadata": {},
   "outputs": [],
   "source": [
    "y_pred_sk= regressor.predict(x_test)"
   ]
  },
  {
   "cell_type": "code",
   "execution_count": 9,
   "id": "5aaf0e25",
   "metadata": {},
   "outputs": [
    {
     "data": {
      "image/png": "[encoded data removed]",
      "text/plain": [
       "<Figure size 432x288 with 1 Axes>"
      ]
     },
     "metadata": {
      "needs_background": "light"
     },
     "output_type": "display_data"
    }
   ],
   "source": [
    "plt.scatter(x, y, color = 'red')\n",
    "plt.plot(x_test, regressor.predict(x_test), color = 'blue')\n",
    "plt.title('Salary vs Experience (Test set)')\n",
    "plt.xlabel('Years of Experience')\n",
    "plt.ylabel('Salary')\n",
    "plt.show()"
   ]
  },
  {
   "cell_type": "code",
   "execution_count": null,
   "id": "3e0c63d9",
   "metadata": {},
   "outputs": [],
   "source": []
  },
  {
   "cell_type": "markdown",
   "id": "bdcdf09c",
   "metadata": {},
   "source": [
    "## Residual Sum Square method"
   ]
  },
  {
   "cell_type": "code",
   "execution_count": 10,
   "id": "c76c6350",
   "metadata": {},
   "outputs": [],
   "source": [
    "\n",
    "def linear_regression(x,y,x_test):\n",
    "    ones = np.ones(shape=(x.shape[0],1))\n",
    "    x_train = np.concatenate((ones,x),axis=1)\n",
    "    y_train = np.reshape(y,(y.shape[0],1))\n",
    "    \n",
    "    \n",
    "#     w = ((X^T.X)^-1)X^T.Y\n",
    "    inverse = np.linalg.inv(np.dot(np.transpose(x_train),x_train))\n",
    "    weight = np.dot(np.dot(inverse,np.transpose(x_train)),y_train)\n",
    "    print(\"Weights : \",end=\" \")\n",
    "    for w in weight:\n",
    "        print(w,end=\",\")\n",
    "    print()\n",
    "    #Prepare y_test\n",
    "    \n",
    "    one_test = np.ones(shape=(x_test.shape[0],1))\n",
    "    x_test = np.concatenate((one_test,x_test),axis=1)\n",
    "    print(x_test.shape,weight.shape)\n",
    "    y_pred = np.dot(x_test,weight)\n",
    "    \n",
    "    y_pred=np.squeeze(y_pred)\n",
    "    return y_pred\n",
    "    "
   ]
  },
  {
   "cell_type": "code",
   "execution_count": 11,
   "id": "f23491fe",
   "metadata": {},
   "outputs": [
    {
     "name": "stdout",
     "output_type": "stream",
     "text": [
      "Weights :  [21767.63039735],[10050.55142901],\n",
      "(10, 2) (2, 1)\n"
     ]
    }
   ],
   "source": [
    "y_pred = linear_regression(x,y,x_test)"
   ]
  },
  {
   "cell_type": "code",
   "execution_count": 12,
   "id": "72a8e6f2",
   "metadata": {},
   "outputs": [
    {
     "name": "stdout",
     "output_type": "stream",
     "text": [
      "[ 46205. 105582.  67938.  60150.  39343.  81363.  64445.  55794.  56642.\n",
      "  57189.]\n"
     ]
    }
   ],
   "source": [
    "print(y_test)"
   ]
  },
  {
   "cell_type": "code",
   "execution_count": 13,
   "id": "d26ee138",
   "metadata": {},
   "outputs": [],
   "source": [
    "#Printing"
   ]
  },
  {
   "cell_type": "code",
   "execution_count": 14,
   "id": "a275f193",
   "metadata": {},
   "outputs": [
    {
     "data": {
      "text/plain": [
       "<matplotlib.collections.PathCollection at 0x2910b2b5250>"
      ]
     },
     "execution_count": 14,
     "metadata": {},
     "output_type": "execute_result"
    },
    {
     "data": {
      "image/png": "[encoded data removed]",
      "text/plain": [
       "<Figure size 432x288 with 1 Axes>"
      ]
     },
     "metadata": {
      "needs_background": "light"
     },
     "output_type": "display_data"
    }
   ],
   "source": [
    "plt.scatter(x_test,y_test)\n",
    "plt.scatter(x,y)\n",
    "\n",
    "plt.plot(x_test,y_pred,color='red')\n",
    "plt.scatter(x_test,y_pred,color='red')\n"
   ]
  },
  {
   "cell_type": "code",
   "execution_count": 15,
   "id": "2c3a8dc5",
   "metadata": {},
   "outputs": [],
   "source": [
    "#RSS ERror"
   ]
  },
  {
   "cell_type": "code",
   "execution_count": 16,
   "id": "81a239d1",
   "metadata": {},
   "outputs": [
    {
     "data": {
      "text/plain": [
       "477866050.51061714"
      ]
     },
     "execution_count": 16,
     "metadata": {},
     "output_type": "execute_result"
    }
   ],
   "source": [
    "e = y_test - y_pred\n",
    "rss = np.dot(np.transpose(e),e)\n",
    "rss"
   ]
  },
  {
   "cell_type": "code",
   "execution_count": null,
   "id": "d075b843",
   "metadata": {},
   "outputs": [],
   "source": []
  },
  {
   "cell_type": "markdown",
   "id": "08f59ad7",
   "metadata": {},
   "source": [
    "## Gradient Descent"
   ]
  },
  {
   "cell_type": "code",
   "execution_count": 189,
   "id": "f3eb8575",
   "metadata": {},
   "outputs": [],
   "source": [
    "dataset = pd.read_csv('Salary_Data.csv')\n",
    "X=dataset.iloc[:,:-1].values\n",
    "Y=dataset.iloc[:,-1].values"
   ]
  },
  {
   "cell_type": "code",
   "execution_count": 190,
   "id": "78bd179f",
   "metadata": {},
   "outputs": [],
   "source": [
    "x_train,x_test,y_train,y_test=train_test_split(X,Y,test_size=1/3)"
   ]
  },
  {
   "cell_type": "code",
   "execution_count": 191,
   "id": "2f34803c",
   "metadata": {},
   "outputs": [
    {
     "data": {
      "text/plain": [
       "(20, 1)"
      ]
     },
     "execution_count": 191,
     "metadata": {},
     "output_type": "execute_result"
    }
   ],
   "source": [
    "x_train.shape"
   ]
  },
  {
   "cell_type": "code",
   "execution_count": 192,
   "id": "2f9fa3b2",
   "metadata": {},
   "outputs": [
    {
     "data": {
      "text/plain": [
       "(20, 1)"
      ]
     },
     "execution_count": 192,
     "metadata": {},
     "output_type": "execute_result"
    }
   ],
   "source": [
    "y_train = y_train.reshape((y_train.shape[0],1))\n",
    "y_train.shape"
   ]
  },
  {
   "cell_type": "code",
   "execution_count": 221,
   "id": "21e62aa5",
   "metadata": {},
   "outputs": [],
   "source": [
    "def gredient_descent(x,y):\n",
    "    theta0 = 10\n",
    "    theta1 = 10\n",
    "    alpha = 0.001\n",
    "    m = x.shape[0]\n",
    "    epoc = 10000\n",
    "    print(m)\n",
    "    \n",
    "    x = x.reshape((1,m))\n",
    "    y = y.reshape((1,m))\n",
    "    ones = np.ones(shape=(m,1))\n",
    "    \n",
    "    best_cf = 1e9\n",
    "    best_th0 = 0\n",
    "    best_th1  =0\n",
    "    \n",
    "    \n",
    "    for _ in range(epoc):\n",
    "        hypo = theta0 + (x*theta1)\n",
    "        temp0 = theta0 - alpha*np.matmul((hypo-y),ones) / m\n",
    "        temp1 = theta1 - alpha*np.matmul((hypo-y),np.transpose(x)) / m\n",
    "        \n",
    "        cost_function = np.matmul((hypo-y)**2,ones) /(2*m)\n",
    "        \n",
    "        if cost_function <best_cf:\n",
    "            best_cf = cost_function\n",
    "            best_th0 = temp0\n",
    "            best_th1 = temp1\n",
    "    \n",
    "    \n",
    "        theta0 = temp0\n",
    "        theta1 = temp1\n",
    "        \n",
    "    print(theta0,theta1)\n",
    "    \n",
    "    hypo = theta0 + (x*theta1)\n",
    "    plt.scatter(x, y)\n",
    "    plt.plot(x[0],hypo.ravel())\n",
    "    plt.title(\"Linear Regression\")\n",
    "    plt.xlabel(\"X\")\n",
    "    plt.ylabel(\"Y\")\n",
    "    plt.show()"
   ]
  },
  {
   "cell_type": "code",
   "execution_count": 222,
   "id": "a07c3963",
   "metadata": {},
   "outputs": [
    {
     "name": "stdout",
     "output_type": "stream",
     "text": [
      "20\n",
      "[[23603.79352676]] [[9912.06740091]]\n"
     ]
    },
    {
     "data": {
      "image/png": "[encoded data removed]",
      "text/plain": [
       "<Figure size 432x288 with 1 Axes>"
      ]
     },
     "metadata": {
      "needs_background": "light"
     },
     "output_type": "display_data"
    }
   ],
   "source": [
    "gredient_descent(x_train,y_train)"
   ]
  },
  {
   "cell_type": "code",
   "execution_count": null,
   "id": "63538f1d",
   "metadata": {},
   "outputs": [],
   "source": []
  }
 ],
 "metadata": {
  "kernelspec": {
   "display_name": "Python 3 (ipykernel)",
   "language": "python",
   "name": "python3"
  },
  "language_info": {
   "codemirror_mode": {
    "name": "ipython",
    "version": 3
   },
   "file_extension": ".py",
   "mimetype": "text/x-python",
   "name": "python",
   "nbconvert_exporter": "python",
   "pygments_lexer": "ipython3",
   "version": "3.9.12"
  }
 },
 "nbformat": 4,
 "nbformat_minor": 5
}
