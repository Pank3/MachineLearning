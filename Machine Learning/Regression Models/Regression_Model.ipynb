{
 "cells": [
  {
   "cell_type": "markdown",
   "id": "f3c8907b",
   "metadata": {},
   "source": [
    "## Regression Models"
   ]
  },
  {
   "cell_type": "markdown",
   "id": "fa257fd3",
   "metadata": {},
   "source": [
    "There are many types of regression analysis techniques, and teh use of each method depends upon the number of factors. These factors include the type of __target variable__, shape of the __regression line__, and the number of __independent variables__.\n"
   ]
  },
  {
   "cell_type": "markdown",
   "id": "ceeae4fa",
   "metadata": {},
   "source": [
    "## Linear Regression"
   ]
  },
  {
   "cell_type": "markdown",
   "id": "cf2e4a81",
   "metadata": {},
   "source": [
    "1. Residual Sum Square \n",
    "2. Gradient Decent\n",
    "\n",
    "\n",
    "Article : https://www.researchgate.net/publication/34068679"
   ]
  },
  {
   "cell_type": "code",
   "execution_count": 1,
   "id": "686e1a86",
   "metadata": {},
   "outputs": [],
   "source": [
    "import numpy as np\n",
    "import matplotlib.pyplot as plt\n",
    "import pandas as pd"
   ]
  },
  {
   "cell_type": "code",
   "execution_count": 2,
   "id": "724ce032",
   "metadata": {},
   "outputs": [],
   "source": [
    "dataset = pd.read_csv('Salary_Data.csv')\n",
    "X=dataset.iloc[:,:-1].values\n",
    "Y=dataset.iloc[:,-1].values"
   ]
  },
  {
   "cell_type": "code",
   "execution_count": 3,
   "id": "07e3680c",
   "metadata": {},
   "outputs": [
    {
     "data": {
      "text/plain": [
       "<matplotlib.collections.PathCollection at 0x29108e22520>"
      ]
     },
     "execution_count": 3,
     "metadata": {},
     "output_type": "execute_result"
    },
    {
     "data": {
      "image/png": "[encoded data removed]",
      "text/plain": [
       "<Figure size 432x288 with 1 Axes>"
      ]
     },
     "metadata": {
      "needs_background": "light"
     },
     "output_type": "display_data"
    }
   ],
   "source": [
    "plt.scatter(X,Y)"
   ]
  },
  {
   "cell_type": "code",
   "execution_count": null,
   "id": "8d6febe9",
   "metadata": {},
   "outputs": [],
   "source": []
  },
  {
   "cell_type": "code",
   "execution_count": 4,
   "id": "92d8ba2b",
   "metadata": {},
   "outputs": [],
   "source": [
    "from sklearn.model_selection import train_test_split"
   ]
  },
  {
   "cell_type": "code",
   "execution_count": 5,
   "id": "ec9844bf",
   "metadata": {},
   "outputs": [],
   "source": [
    "x,x_test,y,y_test=train_test_split(X,Y,test_size=1/3)"
   ]
  },
  {
   "cell_type": "code",
   "execution_count": 6,
   "id": "7d5242f2",
   "metadata": {},
   "outputs": [
    {
     "data": {
      "text/plain": [
       "LinearRegression()"
      ]
     },
     "execution_count": 6,
     "metadata": {},
     "output_type": "execute_result"
    }
   ],
   "source": [
    "from sklearn.linear_model import LinearRegression\n",
    "regressor = LinearRegression()\n",
    "regressor.fit(x,y)"
   ]
  },
  {
   "cell_type": "code",
   "execution_count": 7,
   "id": "b8848166",
   "metadata": {},
   "outputs": [
    {
     "data": {
      "text/plain": [
       "(21767.630397347617, array([10050.55142901]))"
      ]
     },
     "execution_count": 7,
     "metadata": {},
     "output_type": "execute_result"
    }
   ],
   "source": [
    "regressor.intercept_, regressor.coef_"
   ]
  },
  {
   "cell_type": "code",
   "execution_count": 8,
   "id": "cd05c9b0",
   "metadata": {},
   "outputs": [],
   "source": [
    "y_pred_sk= regressor.predict(x_test)"
   ]
  },
  {
   "cell_type": "code",
   "execution_count": 9,
   "id": "5db35480",
   "metadata": {},
   "outputs": [
    {
     "data": {
      "image/png": "[encoded data removed]",
      "text/plain": [
       "<Figure size 432x288 with 1 Axes>"
      ]
     },
     "metadata": {
      "needs_background": "light"
     },
     "output_type": "display_data"
    }
   ],
   "source": [
    "plt.scatter(x, y, color = 'red')\n",
    "plt.plot(x_test, regressor.predict(x_test), color = 'blue')\n",
    "plt.title('Salary vs Experience (Test set)')\n",
    "plt.xlabel('Years of Experience')\n",
    "plt.ylabel('Salary')\n",
    "plt.show()"
   ]
  },
  {
   "cell_type": "code",
   "execution_count": null,
   "id": "90a492c8",
   "metadata": {},
   "outputs": [],
   "source": []
  },
  {
   "cell_type": "markdown",
   "id": "c20dd82f",
   "metadata": {},
   "source": [
    "## Residual Sum Square method"
   ]
  },
  {
   "cell_type": "code",
   "execution_count": 10,
   "id": "c5144bc5",
   "metadata": {},
   "outputs": [],
   "source": [
    "\n",
    "def linear_regression(x,y,x_test):\n",
    "    ones = np.ones(shape=(x.shape[0],1))\n",
    "    x_train = np.concatenate((ones,x),axis=1)\n",
    "    y_train = np.reshape(y,(y.shape[0],1))\n",
    "    \n",
    "    \n",
    "#     w = ((X^T.X)^-1)X^T.Y\n",
    "    inverse = np.linalg.inv(np.dot(np.transpose(x_train),x_train))\n",
    "    weight = np.dot(np.dot(inverse,np.transpose(x_train)),y_train)\n",
    "    print(\"Weights : \",end=\" \")\n",
    "    for w in weight:\n",
    "        print(w,end=\",\")\n",
    "    print()\n",
    "    #Prepare y_test\n",
    "    \n",
    "    one_test = np.ones(shape=(x_test.shape[0],1))\n",
    "    x_test = np.concatenate((one_test,x_test),axis=1)\n",
    "    print(x_test.shape,weight.shape)\n",
    "    y_pred = np.dot(x_test,weight)\n",
    "    \n",
    "    y_pred=np.squeeze(y_pred)\n",
    "    return y_pred\n",
    "    "
   ]
  },
  {
   "cell_type": "code",
   "execution_count": 11,
   "id": "98f371aa",
   "metadata": {},
   "outputs": [
    {
     "name": "stdout",
     "output_type": "stream",
     "text": [
      "Weights :  [21767.63039735],[10050.55142901],\n",
      "(10, 2) (2, 1)\n"
     ]
    }
   ],
   "source": [
    "y_pred = linear_regression(x,y,x_test)"
   ]
  },
  {
   "cell_type": "code",
   "execution_count": 12,
   "id": "a3fd3c11",
   "metadata": {},
   "outputs": [
    {
     "name": "stdout",
     "output_type": "stream",
     "text": [
      "[ 46205. 105582.  67938.  60150.  39343.  81363.  64445.  55794.  56642.\n",
      "  57189.]\n"
     ]
    }
   ],
   "source": [
    "print(y_test)"
   ]
  },
  {
   "cell_type": "code",
   "execution_count": 13,
   "id": "d1ee7aa4",
   "metadata": {},
   "outputs": [],
   "source": [
    "#Printing"
   ]
  },
  {
   "cell_type": "code",
   "execution_count": 14,
   "id": "12e6597e",
   "metadata": {},
   "outputs": [
    {
     "data": {
      "text/plain": [
       "<matplotlib.collections.PathCollection at 0x2910b2b5250>"
      ]
     },
     "execution_count": 14,
     "metadata": {},
     "output_type": "execute_result"
    },
    {
     "data": {
      "image/png": "[encoded data removed]",
      "text/plain": [
       "<Figure size 432x288 with 1 Axes>"
      ]
     },
     "metadata": {
      "needs_background": "light"
     },
     "output_type": "display_data"
    }
   ],
   "source": [
    "plt.scatter(x_test,y_test)\n",
    "plt.scatter(x,y)\n",
    "\n",
    "plt.plot(x_test,y_pred,color='red')\n",
    "plt.scatter(x_test,y_pred,color='red')\n"
   ]
  },
  {
   "cell_type": "code",
   "execution_count": 15,
   "id": "3a1fcf03",
   "metadata": {},
   "outputs": [],
   "source": [
    "#RSS ERror"
   ]
  },
  {
   "cell_type": "code",
   "execution_count": 16,
   "id": "c5640412",
   "metadata": {},
   "outputs": [
    {
     "data": {
      "text/plain": [
       "477866050.51061714"
      ]
     },
     "execution_count": 16,
     "metadata": {},
     "output_type": "execute_result"
    }
   ],
   "source": [
    "e = y_test - y_pred\n",
    "rss = np.dot(np.transpose(e),e)\n",
    "rss"
   ]
  },
  {
   "cell_type": "code",
   "execution_count": null,
   "id": "13e3f084",
   "metadata": {},
   "outputs": [],
   "source": []
  },
  {
   "cell_type": "code",
   "execution_count": null,
   "id": "3b537643",
   "metadata": {},
   "outputs": [],
   "source": []
  },
  {
   "cell_type": "raw",
   "id": "90c3bf11",
   "metadata": {},
   "source": []
  },
  {
   "cell_type": "code",
   "execution_count": null,
   "id": "201ccbf1",
   "metadata": {},
   "outputs": [],
   "source": []
  }
 ],
 "metadata": {
  "kernelspec": {
   "display_name": "Python 3 (ipykernel)",
   "language": "python",
   "name": "python3"
  },
  "language_info": {
   "codemirror_mode": {
    "name": "ipython",
    "version": 3
   },
   "file_extension": ".py",
   "mimetype": "text/x-python",
   "name": "python",
   "nbconvert_exporter": "python",
   "pygments_lexer": "ipython3",
   "version": "3.9.12"
  }
 },
 "nbformat": 4,
 "nbformat_minor": 5
}
