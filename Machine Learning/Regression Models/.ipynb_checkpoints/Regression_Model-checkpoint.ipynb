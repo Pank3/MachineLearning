{
 "cells": [
  {
   "cell_type": "markdown",
   "id": "f3c8907b",
   "metadata": {},
   "source": [
    "## Regression Models"
   ]
  },
  {
   "cell_type": "markdown",
   "id": "fa257fd3",
   "metadata": {},
   "source": [
    "There are many types of regression analysis techniques, and teh use of each method depends upon the number of factors. These factors include the type of __target variable__, shape of the __regression line__, and the number of __independent variables__.\n"
   ]
  },
  {
   "cell_type": "code",
   "execution_count": null,
   "id": "ed02455b",
   "metadata": {},
   "outputs": [],
   "source": []
  },
  {
   "cell_type": "markdown",
   "id": "ceeae4fa",
   "metadata": {},
   "source": [
    "## Linear Regression"
   ]
  },
  {
   "cell_type": "markdown",
   "id": "ec78e8ac",
   "metadata": {},
   "source": [
    "1. Residual Sum Square \n",
    "2. Gradient Decent"
   ]
  },
  {
   "cell_type": "code",
   "execution_count": 1,
   "id": "a664dfce",
   "metadata": {},
   "outputs": [],
   "source": [
    "import numpy as np\n",
    "import matplotlib.pyplot as plt\n",
    "import pandas as pd"
   ]
  },
  {
   "cell_type": "code",
   "execution_count": 9,
   "id": "a8b99ccb",
   "metadata": {},
   "outputs": [],
   "source": [
    "dataset = pd.read_csv('Salary_Data.csv')\n",
    "X=dataset.iloc[:,:-1].values\n",
    "Y=dataset.iloc[:,-1].values"
   ]
  },
  {
   "cell_type": "code",
   "execution_count": 10,
   "id": "3f04a625",
   "metadata": {},
   "outputs": [
    {
     "data": {
      "text/plain": [
       "<matplotlib.collections.PathCollection at 0x2124b1b3580>"
      ]
     },
     "execution_count": 10,
     "metadata": {},
     "output_type": "execute_result"
    },
    {
     "data": {
      "image/png": "[encoded data removed]",
      "text/plain": [
       "<Figure size 432x288 with 1 Axes>"
      ]
     },
     "metadata": {
      "needs_background": "light"
     },
     "output_type": "display_data"
    }
   ],
   "source": [
    "plt.scatter(X,Y)"
   ]
  },
  {
   "cell_type": "code",
   "execution_count": null,
   "id": "6939ff62",
   "metadata": {},
   "outputs": [],
   "source": []
  },
  {
   "cell_type": "code",
   "execution_count": 52,
   "id": "20f23da1",
   "metadata": {},
   "outputs": [],
   "source": [
    "from sklearn.model_selection import train_test_split"
   ]
  },
  {
   "cell_type": "code",
   "execution_count": 53,
   "id": "6a078aed",
   "metadata": {},
   "outputs": [],
   "source": [
    "x,x_test,y,y_test=train_test_split(X,Y,test_size=1/3)"
   ]
  },
  {
   "cell_type": "code",
   "execution_count": 72,
   "id": "1bc9dccb",
   "metadata": {},
   "outputs": [],
   "source": [
    "def linear_regression(x,y,x_test):\n",
    "    ones = np.ones(shape=(x.shape[0],1))\n",
    "    x_train = np.concatenate((ones,x),axis=1)\n",
    "    y_train = np.reshape(y,(y.shape[0],1))\n",
    "    \n",
    "    \n",
    "#     w = ((X^T.X)^-1)X^T.Y\n",
    "    inverse = np.linalg.inv(np.dot(np.transpose(x_train),x_train))\n",
    "    weight = np.dot(np.dot(inverse,np.transpose(x_train)),y_train)\n",
    "    print(\"Weights : \",end=\" \")\n",
    "    for w in weight:\n",
    "        print(w,end=\",\")\n",
    "    print()\n",
    "    #Prepare y_test\n",
    "    \n",
    "    one_test = np.ones(shape=(x_test.shape[0],1))\n",
    "    x_test = np.concatenate((one_test,x_test),axis=1)\n",
    "    print(x_test.shape,weight.shape)\n",
    "    y_pred = np.dot(x_test,weight)\n",
    "    \n",
    "    y_pred=np.squeeze(y_pred)\n",
    "    return y_pred\n",
    "    "
   ]
  },
  {
   "cell_type": "code",
   "execution_count": 78,
   "id": "d2008907",
   "metadata": {},
   "outputs": [
    {
     "name": "stdout",
     "output_type": "stream",
     "text": [
      "Weights :  [24095.93668094],[9785.76391176],\n",
      "(10, 2) (2, 1)\n"
     ]
    }
   ],
   "source": [
    "y_pred = linear_regression(x,y,x_test)"
   ]
  },
  {
   "cell_type": "code",
   "execution_count": 74,
   "id": "ab5286b9",
   "metadata": {},
   "outputs": [
    {
     "name": "stdout",
     "output_type": "stream",
     "text": [
      "[ 60150. 122391.  81363.  43525.  39343.  64445.  91738.  56957.  66029.\n",
      " 105582.]\n"
     ]
    }
   ],
   "source": [
    "print(y_test)"
   ]
  },
  {
   "cell_type": "code",
   "execution_count": 75,
   "id": "0340521f",
   "metadata": {},
   "outputs": [],
   "source": [
    "#Printing"
   ]
  },
  {
   "cell_type": "code",
   "execution_count": 86,
   "id": "072147f7",
   "metadata": {},
   "outputs": [
    {
     "data": {
      "text/plain": [
       "<matplotlib.collections.PathCollection at 0x2124bfe3910>"
      ]
     },
     "execution_count": 86,
     "metadata": {},
     "output_type": "execute_result"
    },
    {
     "data": {
      "image/png": "[encoded data removed]",
      "text/plain": [
       "<Figure size 432x288 with 1 Axes>"
      ]
     },
     "metadata": {
      "needs_background": "light"
     },
     "output_type": "display_data"
    }
   ],
   "source": [
    "plt.scatter(x_test,y_test)\n",
    "plt.scatter(x,y)\n",
    "\n",
    "plt.plot(x_test,y_pred,color='red')\n",
    "plt.scatter(x_test,y_pred,color='red')\n"
   ]
  },
  {
   "cell_type": "code",
   "execution_count": 87,
   "id": "8ced7cc0",
   "metadata": {},
   "outputs": [],
   "source": [
    "#RSS ERror"
   ]
  },
  {
   "cell_type": "code",
   "execution_count": 89,
   "id": "bf81ef7c",
   "metadata": {},
   "outputs": [],
   "source": [
    "e = y_test - y_pred\n",
    "rss = np.dot(np.transpose(e),e)"
   ]
  },
  {
   "cell_type": "raw",
   "id": "11056772",
   "metadata": {},
   "source": []
  }
 ],
 "metadata": {
  "kernelspec": {
   "display_name": "Python 3 (ipykernel)",
   "language": "python",
   "name": "python3"
  },
  "language_info": {
   "codemirror_mode": {
    "name": "ipython",
    "version": 3
   },
   "file_extension": ".py",
   "mimetype": "text/x-python",
   "name": "python",
   "nbconvert_exporter": "python",
   "pygments_lexer": "ipython3",
   "version": "3.9.12"
  }
 },
 "nbformat": 4,
 "nbformat_minor": 5
}
